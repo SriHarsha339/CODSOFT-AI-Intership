from google.colab import files
import pandas as pd
import numpy as np
from mlxtend.preprocessing import TransactionEncoder
from mlxtend.frequent_patterns import apriori, association_rules

# Upload the file
print("Please upload your Netflix CSV file:")
uploaded = files.upload()

# Assuming the user uploads a file named 'netflix.csv'
file_name = next(iter(uploaded))

# Read the uploaded CSV file
df = pd.read_csv(file_name)

# Convert all columns to string type
df = df.astype(str)

# Remove any leading or trailing whitespaces in column names
df.columns = df.columns.str.strip()

# Convert the DataFrame to a list of lists
transactions = df.values.tolist()

# Perform Apriori algorithm
te = TransactionEncoder()
te_ary = te.fit(transactions).transform(transactions)
df = pd.DataFrame(te_ary, columns=te.columns_)

# Frequent Itemsets
frequent_itemsets = apriori(df, min_support=0.02, use_colnames=True)

# Association Rules
association_rules = association_rules(frequent_itemsets, metric='lift', min_threshold=1)

# Displaying a sample of association rules
print("Sample of association rules:")
print(association_rules.sample(10))

# Displaying the top 20 association rules sorted by confidence
print("Top 20 association rules sorted by confidence:")
print(association_rules.sort_values('confidence', ascending=False).head(20))
